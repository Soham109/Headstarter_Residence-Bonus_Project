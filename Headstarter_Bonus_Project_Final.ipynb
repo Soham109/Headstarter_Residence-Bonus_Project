{
  "nbformat": 4,
  "nbformat_minor": 0,
  "metadata": {
    "colab": {
      "provenance": [],
      "authorship_tag": "ABX9TyPgDkC2EEf3AgsO6MeBBz1U",
      "include_colab_link": true
    },
    "kernelspec": {
      "name": "python3",
      "display_name": "Python 3"
    },
    "language_info": {
      "name": "python"
    }
  },
  "cells": [
    {
      "cell_type": "markdown",
      "metadata": {
        "id": "view-in-github",
        "colab_type": "text"
      },
      "source": [
        "<a href=\"https://colab.research.google.com/github/Soham109/Headstarter_Residence-Bonus_Project/blob/main/Headstarter_Bonus_Project_Final.ipynb\" target=\"_parent\"><img src=\"https://colab.research.google.com/assets/colab-badge.svg\" alt=\"Open In Colab\"/></a>"
      ]
    },
    {
      "cell_type": "code",
      "source": [
        "import pandas as pd\n",
        "import seaborn as sns\n",
        "import matplotlib.pyplot as plt\n",
        "import numpy as np\n",
        "from sklearn.preprocessing import StandardScaler, LabelEncoder\n",
        "from sklearn.linear_model import LogisticRegression\n",
        "from sklearn.metrics import accuracy_score, classification_report, confusion_matrix\n",
        "import pickle\n",
        "import xgboost as xgb\n",
        "from sklearn.ensemble import RandomForestClassifier\n",
        "from sklearn.tree import DecisionTreeClassifier\n",
        "from sklearn.svm import SVC\n",
        "from sklearn.neighbors import KNeighborsClassifier\n",
        "from sklearn.naive_bayes import GaussianNB\n",
        "from imblearn.over_sampling import SMOTE\n",
        "from sklearn.ensemble import VotingClassifier\n",
        "!pip install category_encoders\n",
        "from category_encoders import BinaryEncoder"
      ],
      "metadata": {
        "colab": {
          "base_uri": "https://localhost:8080/"
        },
        "id": "JENLGvuzlTj-",
        "outputId": "27fad7a0-b3b7-4092-e818-ce94a3668da6"
      },
      "execution_count": 3,
      "outputs": [
        {
          "output_type": "stream",
          "name": "stdout",
          "text": [
            "Collecting category_encoders\n",
            "  Downloading category_encoders-2.6.4-py2.py3-none-any.whl.metadata (8.0 kB)\n",
            "Requirement already satisfied: numpy>=1.14.0 in /usr/local/lib/python3.10/dist-packages (from category_encoders) (1.26.4)\n",
            "Requirement already satisfied: scikit-learn>=0.20.0 in /usr/local/lib/python3.10/dist-packages (from category_encoders) (1.5.2)\n",
            "Requirement already satisfied: scipy>=1.0.0 in /usr/local/lib/python3.10/dist-packages (from category_encoders) (1.13.1)\n",
            "Requirement already satisfied: statsmodels>=0.9.0 in /usr/local/lib/python3.10/dist-packages (from category_encoders) (0.14.4)\n",
            "Requirement already satisfied: pandas>=1.0.5 in /usr/local/lib/python3.10/dist-packages (from category_encoders) (2.2.2)\n",
            "Requirement already satisfied: patsy>=0.5.1 in /usr/local/lib/python3.10/dist-packages (from category_encoders) (0.5.6)\n",
            "Requirement already satisfied: python-dateutil>=2.8.2 in /usr/local/lib/python3.10/dist-packages (from pandas>=1.0.5->category_encoders) (2.8.2)\n",
            "Requirement already satisfied: pytz>=2020.1 in /usr/local/lib/python3.10/dist-packages (from pandas>=1.0.5->category_encoders) (2024.2)\n",
            "Requirement already satisfied: tzdata>=2022.7 in /usr/local/lib/python3.10/dist-packages (from pandas>=1.0.5->category_encoders) (2024.2)\n",
            "Requirement already satisfied: six in /usr/local/lib/python3.10/dist-packages (from patsy>=0.5.1->category_encoders) (1.16.0)\n",
            "Requirement already satisfied: joblib>=1.2.0 in /usr/local/lib/python3.10/dist-packages (from scikit-learn>=0.20.0->category_encoders) (1.4.2)\n",
            "Requirement already satisfied: threadpoolctl>=3.1.0 in /usr/local/lib/python3.10/dist-packages (from scikit-learn>=0.20.0->category_encoders) (3.5.0)\n",
            "Requirement already satisfied: packaging>=21.3 in /usr/local/lib/python3.10/dist-packages (from statsmodels>=0.9.0->category_encoders) (24.1)\n",
            "Downloading category_encoders-2.6.4-py2.py3-none-any.whl (82 kB)\n",
            "\u001b[2K   \u001b[90m━━━━━━━━━━━━━━━━━━━━━━━━━━━━━━━━━━━━━━━━\u001b[0m \u001b[32m82.0/82.0 kB\u001b[0m \u001b[31m1.9 MB/s\u001b[0m eta \u001b[36m0:00:00\u001b[0m\n",
            "\u001b[?25hInstalling collected packages: category_encoders\n",
            "Successfully installed category_encoders-2.6.4\n"
          ]
        }
      ]
    },
    {
      "cell_type": "code",
      "source": [
        "train_df = pd.read_csv('fraudTrain.csv')\n",
        "test_df = pd.read_csv('fraudTest.csv')"
      ],
      "metadata": {
        "id": "GxKbauJXlzMU"
      },
      "execution_count": 4,
      "outputs": []
    },
    {
      "cell_type": "code",
      "source": [
        "target = train_df['is_fraud']\n",
        "features = train_df.drop(['Unnamed: 0', 'trans_date_trans_time', 'cc_num', 'category', 'first', 'last',\n",
        "                          'dob', 'trans_num', 'zip', 'unix_time','is_fraud'], axis=1)\n",
        "target_test = test_df['is_fraud']\n",
        "features_test = test_df.drop(['Unnamed: 0', 'trans_date_trans_time', 'cc_num', 'category', 'first', 'last',\n",
        "                          'dob', 'trans_num', 'zip', 'unix_time','is_fraud'], axis=1)"
      ],
      "metadata": {
        "id": "lgHmyha8mta2"
      },
      "execution_count": 5,
      "outputs": []
    },
    {
      "cell_type": "code",
      "source": [
        "encoder = BinaryEncoder(cols=['gender', 'state', 'merchant','job','city', 'street'])\n",
        "features_test_encoded = encoder.fit_transform(features_test)\n",
        "features_encoded = encoder.fit_transform(features)"
      ],
      "metadata": {
        "id": "BdtOwIkVmyEV"
      },
      "execution_count": 6,
      "outputs": []
    },
    {
      "cell_type": "code",
      "source": [
        "features_test_encoded['PoptoAmtRatio'] = features_test_encoded['amt'] / features_test_encoded['city_pop']\n",
        "features_encoded['PoptoAmtRatio'] = features_encoded['amt'] / features_encoded['city_pop']"
      ],
      "metadata": {
        "id": "_VlX-mzrm6MI"
      },
      "execution_count": 7,
      "outputs": []
    },
    {
      "cell_type": "code",
      "source": [
        "X_train = features_encoded\n",
        "y_train = target\n",
        "X_test = features_test_encoded\n",
        "y_test = target_test"
      ],
      "metadata": {
        "id": "MLM4Z1bEm8C1"
      },
      "execution_count": 8,
      "outputs": []
    },
    {
      "cell_type": "code",
      "source": [
        "scaler = StandardScaler()\n",
        "\n",
        "X_train = scaler.fit_transform(X_train)\n",
        "X_test = scaler.transform(X_test)"
      ],
      "metadata": {
        "id": "O-chcckqm9ef"
      },
      "execution_count": 9,
      "outputs": []
    },
    {
      "cell_type": "code",
      "source": [
        "def evaluate_and_save_model(model, X_train, X_test, y_train, y_test, filename):\n",
        "    model.fit(X_train, y_train)\n",
        "    predictions = model.predict(X_test)\n",
        "    accuracy = accuracy_score(y_test, predictions)\n",
        "    print(f\"{model.__class__.__name__} Accuracy: {accuracy:.4f}\")\n",
        "    print(classification_report(y_test, predictions))\n",
        "    print(\"-------------\")\n",
        "\n",
        "    with open(filename, \"wb\") as file:\n",
        "        pickle.dump(model, file)\n",
        "\n",
        "    print(f\"Model saved as {filename}\")"
      ],
      "metadata": {
        "id": "TaQaljNanAFY"
      },
      "execution_count": 10,
      "outputs": []
    },
    {
      "cell_type": "code",
      "source": [
        "import joblib\n",
        "from sklearn.ensemble import VotingClassifier\n",
        "\n",
        "xgb_model = joblib.load('xgb_model_smote_precision.pkl')\n",
        "nb_model_smote = joblib.load('nb_model_precision.pkl')\n",
        "\n",
        "voting_clf = VotingClassifier(estimators=[\n",
        "    ('xgb', xgb_model),\n",
        "    ('nb', nb_model_smote)\n",
        "], voting='soft')"
      ],
      "metadata": {
        "id": "6c46b-yolW9m"
      },
      "execution_count": 20,
      "outputs": []
    },
    {
      "cell_type": "code",
      "source": [
        "evaluate_and_save_model(voting_clf, X_train, X_test, y_train, y_test, 'voting_clf.pkl')"
      ],
      "metadata": {
        "colab": {
          "base_uri": "https://localhost:8080/"
        },
        "id": "tC0nEihOnD2Y",
        "outputId": "fcbdb2f0-7be4-43c0-c647-da390a9d1a67"
      },
      "execution_count": 21,
      "outputs": [
        {
          "output_type": "stream",
          "name": "stdout",
          "text": [
            "VotingClassifier Accuracy: 0.9920\n",
            "              precision    recall  f1-score   support\n",
            "\n",
            "           0       1.00      0.99      1.00    553574\n",
            "           1       0.22      0.43      0.29      2145\n",
            "\n",
            "    accuracy                           0.99    555719\n",
            "   macro avg       0.61      0.71      0.64    555719\n",
            "weighted avg       0.99      0.99      0.99    555719\n",
            "\n",
            "-------------\n",
            "Model saved as voting_clf.pkl\n"
          ]
        }
      ]
    }
  ]
}